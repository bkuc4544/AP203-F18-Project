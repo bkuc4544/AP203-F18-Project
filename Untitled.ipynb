{
 "cells": [
  {
   "cell_type": "code",
   "execution_count": 1,
   "id": "f52051a2",
   "metadata": {},
   "outputs": [],
   "source": [
    "from qutip import *"
   ]
  },
  {
   "cell_type": "code",
   "execution_count": 7,
   "id": "fb47bdf8",
   "metadata": {},
   "outputs": [],
   "source": [
    "import numpy as np"
   ]
  },
  {
   "cell_type": "code",
   "execution_count": 2,
   "id": "7471a292",
   "metadata": {},
   "outputs": [
    {
     "data": {
      "text/latex": [
       "Quantum object: dims = [[1], [1]], shape = (1, 1), type = bra\\begin{equation*}\\left(\\begin{array}{*{11}c}0.0\\\\\\end{array}\\right)\\end{equation*}"
      ],
      "text/plain": [
       "Quantum object: dims = [[1], [1]], shape = (1, 1), type = bra\n",
       "Qobj data =\n",
       "[[0.]]"
      ]
     },
     "execution_count": 2,
     "metadata": {},
     "output_type": "execute_result"
    }
   ],
   "source": [
    "Qobj()"
   ]
  },
  {
   "cell_type": "code",
   "execution_count": 3,
   "id": "dba848ea",
   "metadata": {},
   "outputs": [],
   "source": [
    "q = Qobj([[0], [1]])"
   ]
  },
  {
   "cell_type": "code",
   "execution_count": 4,
   "id": "93bf5896",
   "metadata": {},
   "outputs": [
    {
     "data": {
      "text/latex": [
       "Quantum object: dims = [[2], [1]], shape = (2, 1), type = ket\\begin{equation*}\\left(\\begin{array}{*{11}c}0.0\\\\1.0\\\\\\end{array}\\right)\\end{equation*}"
      ],
      "text/plain": [
       "Quantum object: dims = [[2], [1]], shape = (2, 1), type = ket\n",
       "Qobj data =\n",
       "[[0.]\n",
       " [1.]]"
      ]
     },
     "execution_count": 4,
     "metadata": {},
     "output_type": "execute_result"
    }
   ],
   "source": [
    "q"
   ]
  },
  {
   "cell_type": "code",
   "execution_count": 18,
   "id": "ae0f25df",
   "metadata": {},
   "outputs": [
    {
     "data": {
      "text/latex": [
       "Quantum object: dims = [[2], [2]], shape = (2, 2), type = oper, isherm = True\\begin{equation*}\\left(\\begin{array}{*{11}c}0.0 & 1.0\\\\1.0 & 0.0\\\\\\end{array}\\right)\\end{equation*}"
      ],
      "text/plain": [
       "Quantum object: dims = [[2], [2]], shape = (2, 2), type = oper, isherm = True\n",
       "Qobj data =\n",
       "[[0. 1.]\n",
       " [1. 0.]]"
      ]
     },
     "execution_count": 18,
     "metadata": {},
     "output_type": "execute_result"
    }
   ],
   "source": [
    "q = Qobj([[0, 1], [1, 0]])\n",
    "q"
   ]
  },
  {
   "cell_type": "code",
   "execution_count": 20,
   "id": "1f2ab18b",
   "metadata": {},
   "outputs": [
    {
     "data": {
      "text/plain": [
       "0.0"
      ]
     },
     "execution_count": 20,
     "metadata": {},
     "output_type": "execute_result"
    }
   ],
   "source": [
    "q.tr()"
   ]
  },
  {
   "cell_type": "code",
   "execution_count": 12,
   "id": "c358100e",
   "metadata": {},
   "outputs": [
    {
     "data": {
      "text/plain": [
       "True"
      ]
     },
     "execution_count": 12,
     "metadata": {},
     "output_type": "execute_result"
    }
   ],
   "source": [
    "q.isherm"
   ]
  },
  {
   "cell_type": "code",
   "execution_count": 21,
   "id": "43302856",
   "metadata": {},
   "outputs": [
    {
     "data": {
      "text/latex": [
       "Quantum object: dims = [[3], [3]], shape = (3, 3), type = oper, isherm = False\\begin{equation*}\\left(\\begin{array}{*{11}c}1.0 & 2.0 & 5.0\\\\3.0 & 4.0 & 6.0\\\\3.0 & 6.0 & 9.0\\\\\\end{array}\\right)\\end{equation*}"
      ],
      "text/plain": [
       "Quantum object: dims = [[3], [3]], shape = (3, 3), type = oper, isherm = False\n",
       "Qobj data =\n",
       "[[1. 2. 5.]\n",
       " [3. 4. 6.]\n",
       " [3. 6. 9.]]"
      ]
     },
     "execution_count": 21,
     "metadata": {},
     "output_type": "execute_result"
    }
   ],
   "source": [
    "q = Qobj(np.matrix('1, 2, 5; 3, 4, 6; 3, 6, 9'))\n",
    "q"
   ]
  },
  {
   "cell_type": "code",
   "execution_count": 10,
   "id": "42d20e41",
   "metadata": {},
   "outputs": [
    {
     "data": {
      "text/plain": [
       "False"
      ]
     },
     "execution_count": 10,
     "metadata": {},
     "output_type": "execute_result"
    }
   ],
   "source": [
    "q.isherm"
   ]
  },
  {
   "cell_type": "code",
   "execution_count": 16,
   "id": "fedd94c8",
   "metadata": {},
   "outputs": [
    {
     "data": {
      "text/latex": [
       "Quantum object: dims = [[3], [3]], shape = (3, 3), type = oper, isherm = False\\begin{equation*}\\left(\\begin{array}{*{11}c}1.0 & 3.0 & 3.0\\\\2.0 & 4.0 & 6.0\\\\5.0 & 6.0 & 9.0\\\\\\end{array}\\right)\\end{equation*}"
      ],
      "text/plain": [
       "Quantum object: dims = [[3], [3]], shape = (3, 3), type = oper, isherm = False\n",
       "Qobj data =\n",
       "[[1. 3. 3.]\n",
       " [2. 4. 6.]\n",
       " [5. 6. 9.]]"
      ]
     },
     "execution_count": 16,
     "metadata": {},
     "output_type": "execute_result"
    }
   ],
   "source": [
    "q.dag()"
   ]
  },
  {
   "cell_type": "code",
   "execution_count": 22,
   "id": "fbb6ce92",
   "metadata": {},
   "outputs": [
    {
     "data": {
      "text/plain": [
       "14.0"
      ]
     },
     "execution_count": 22,
     "metadata": {},
     "output_type": "execute_result"
    }
   ],
   "source": [
    "q.tr()"
   ]
  },
  {
   "cell_type": "code",
   "execution_count": 23,
   "id": "79b03b0d",
   "metadata": {},
   "outputs": [
    {
     "ename": "TypeError",
     "evalue": "'list' object is not callable",
     "output_type": "error",
     "traceback": [
      "\u001b[1;31m---------------------------------------------------------------------------\u001b[0m",
      "\u001b[1;31mTypeError\u001b[0m                                 Traceback (most recent call last)",
      "\u001b[1;32m<ipython-input-23-9ca22decbd0c>\u001b[0m in \u001b[0;36m<module>\u001b[1;34m\u001b[0m\n\u001b[1;32m----> 1\u001b[1;33m \u001b[0mq\u001b[0m\u001b[1;33m.\u001b[0m\u001b[0mdims\u001b[0m\u001b[1;33m(\u001b[0m\u001b[1;33m)\u001b[0m\u001b[1;33m\u001b[0m\u001b[1;33m\u001b[0m\u001b[0m\n\u001b[0m",
      "\u001b[1;31mTypeError\u001b[0m: 'list' object is not callable"
     ]
    }
   ],
   "source": [
    "q.dims()"
   ]
  },
  {
   "cell_type": "code",
   "execution_count": 25,
   "id": "31a7f974",
   "metadata": {},
   "outputs": [
    {
     "data": {
      "text/plain": [
       "[[3], [3]]"
      ]
     },
     "execution_count": 25,
     "metadata": {},
     "output_type": "execute_result"
    }
   ],
   "source": [
    "q.dims"
   ]
  },
  {
   "cell_type": "code",
   "execution_count": 35,
   "id": "a25d7450",
   "metadata": {},
   "outputs": [],
   "source": [
    "vac = basis(5, 0)"
   ]
  },
  {
   "cell_type": "code",
   "execution_count": 36,
   "id": "4eddef0a",
   "metadata": {},
   "outputs": [
    {
     "data": {
      "text/latex": [
       "Quantum object: dims = [[5], [1]], shape = (5, 1), type = ket\\begin{equation*}\\left(\\begin{array}{*{11}c}1.0\\\\0.0\\\\0.0\\\\0.0\\\\0.0\\\\\\end{array}\\right)\\end{equation*}"
      ],
      "text/plain": [
       "Quantum object: dims = [[5], [1]], shape = (5, 1), type = ket\n",
       "Qobj data =\n",
       "[[1.]\n",
       " [0.]\n",
       " [0.]\n",
       " [0.]\n",
       " [0.]]"
      ]
     },
     "execution_count": 36,
     "metadata": {},
     "output_type": "execute_result"
    }
   ],
   "source": [
    "vac"
   ]
  },
  {
   "cell_type": "code",
   "execution_count": 37,
   "id": "b2217720",
   "metadata": {},
   "outputs": [],
   "source": [
    "a = destroy(5)"
   ]
  },
  {
   "cell_type": "code",
   "execution_count": 38,
   "id": "d074cc95",
   "metadata": {},
   "outputs": [
    {
     "data": {
      "text/latex": [
       "Quantum object: dims = [[5], [5]], shape = (5, 5), type = oper, isherm = False\\begin{equation*}\\left(\\begin{array}{*{11}c}0.0 & 1.0 & 0.0 & 0.0 & 0.0\\\\0.0 & 0.0 & 1.414 & 0.0 & 0.0\\\\0.0 & 0.0 & 0.0 & 1.732 & 0.0\\\\0.0 & 0.0 & 0.0 & 0.0 & 2.0\\\\0.0 & 0.0 & 0.0 & 0.0 & 0.0\\\\\\end{array}\\right)\\end{equation*}"
      ],
      "text/plain": [
       "Quantum object: dims = [[5], [5]], shape = (5, 5), type = oper, isherm = False\n",
       "Qobj data =\n",
       "[[0.         1.         0.         0.         0.        ]\n",
       " [0.         0.         1.41421356 0.         0.        ]\n",
       " [0.         0.         0.         1.73205081 0.        ]\n",
       " [0.         0.         0.         0.         2.        ]\n",
       " [0.         0.         0.         0.         0.        ]]"
      ]
     },
     "execution_count": 38,
     "metadata": {},
     "output_type": "execute_result"
    }
   ],
   "source": [
    "a"
   ]
  },
  {
   "cell_type": "code",
   "execution_count": 39,
   "id": "1874e0cc",
   "metadata": {},
   "outputs": [
    {
     "data": {
      "text/latex": [
       "Quantum object: dims = [[5], [1]], shape = (5, 1), type = ket\\begin{equation*}\\left(\\begin{array}{*{11}c}0.0\\\\0.0\\\\0.0\\\\0.0\\\\0.0\\\\\\end{array}\\right)\\end{equation*}"
      ],
      "text/plain": [
       "Quantum object: dims = [[5], [1]], shape = (5, 1), type = ket\n",
       "Qobj data =\n",
       "[[0.]\n",
       " [0.]\n",
       " [0.]\n",
       " [0.]\n",
       " [0.]]"
      ]
     },
     "execution_count": 39,
     "metadata": {},
     "output_type": "execute_result"
    }
   ],
   "source": [
    "a*vac"
   ]
  },
  {
   "cell_type": "code",
   "execution_count": 40,
   "id": "d114a88e",
   "metadata": {},
   "outputs": [
    {
     "data": {
      "text/latex": [
       "Quantum object: dims = [[5], [1]], shape = (5, 1), type = ket\\begin{equation*}\\left(\\begin{array}{*{11}c}1.0\\\\0.0\\\\0.0\\\\0.0\\\\0.0\\\\\\end{array}\\right)\\end{equation*}"
      ],
      "text/plain": [
       "Quantum object: dims = [[5], [1]], shape = (5, 1), type = ket\n",
       "Qobj data =\n",
       "[[1.]\n",
       " [0.]\n",
       " [0.]\n",
       " [0.]\n",
       " [0.]]"
      ]
     },
     "execution_count": 40,
     "metadata": {},
     "output_type": "execute_result"
    }
   ],
   "source": [
    "vac_ = basis(5, 1)\n",
    "a*vac_"
   ]
  },
  {
   "cell_type": "code",
   "execution_count": 42,
   "id": "335a5deb",
   "metadata": {},
   "outputs": [
    {
     "data": {
      "text/latex": [
       "Quantum object: dims = [[5], [5]], shape = (5, 5), type = oper, isherm = False\\begin{equation*}\\left(\\begin{array}{*{11}c}0.0 & 0.0 & 0.0 & 0.0 & 0.0\\\\1.0 & 0.0 & 0.0 & 0.0 & 0.0\\\\0.0 & 1.414 & 0.0 & 0.0 & 0.0\\\\0.0 & 0.0 & 1.732 & 0.0 & 0.0\\\\0.0 & 0.0 & 0.0 & 2.0 & 0.0\\\\\\end{array}\\right)\\end{equation*}"
      ],
      "text/plain": [
       "Quantum object: dims = [[5], [5]], shape = (5, 5), type = oper, isherm = False\n",
       "Qobj data =\n",
       "[[0.         0.         0.         0.         0.        ]\n",
       " [1.         0.         0.         0.         0.        ]\n",
       " [0.         1.41421356 0.         0.         0.        ]\n",
       " [0.         0.         1.73205081 0.         0.        ]\n",
       " [0.         0.         0.         2.         0.        ]]"
      ]
     },
     "execution_count": 42,
     "metadata": {},
     "output_type": "execute_result"
    }
   ],
   "source": [
    "a_dag = a.dag()\n",
    "a_dag"
   ]
  },
  {
   "cell_type": "code",
   "execution_count": 43,
   "id": "702cde93",
   "metadata": {},
   "outputs": [
    {
     "data": {
      "text/latex": [
       "Quantum object: dims = [[5], [1]], shape = (5, 1), type = ket\\begin{equation*}\\left(\\begin{array}{*{11}c}0.0\\\\1.0\\\\0.0\\\\0.0\\\\0.0\\\\\\end{array}\\right)\\end{equation*}"
      ],
      "text/plain": [
       "Quantum object: dims = [[5], [1]], shape = (5, 1), type = ket\n",
       "Qobj data =\n",
       "[[0.]\n",
       " [1.]\n",
       " [0.]\n",
       " [0.]\n",
       " [0.]]"
      ]
     },
     "execution_count": 43,
     "metadata": {},
     "output_type": "execute_result"
    }
   ],
   "source": [
    "a_dag*vac"
   ]
  },
  {
   "cell_type": "code",
   "execution_count": 44,
   "id": "5109a4cd",
   "metadata": {},
   "outputs": [
    {
     "data": {
      "text/latex": [
       "Quantum object: dims = [[5], [1]], shape = (5, 1), type = ket\\begin{equation*}\\left(\\begin{array}{*{11}c}0.0\\\\0.0\\\\1.414\\\\0.0\\\\0.0\\\\\\end{array}\\right)\\end{equation*}"
      ],
      "text/plain": [
       "Quantum object: dims = [[5], [1]], shape = (5, 1), type = ket\n",
       "Qobj data =\n",
       "[[0.        ]\n",
       " [0.        ]\n",
       " [1.41421356]\n",
       " [0.        ]\n",
       " [0.        ]]"
      ]
     },
     "execution_count": 44,
     "metadata": {},
     "output_type": "execute_result"
    }
   ],
   "source": [
    "a_dag*vac_"
   ]
  },
  {
   "cell_type": "code",
   "execution_count": 45,
   "id": "9d27b203",
   "metadata": {},
   "outputs": [],
   "source": [
    "a_dag = create(5)"
   ]
  },
  {
   "cell_type": "code",
   "execution_count": 46,
   "id": "096c2815",
   "metadata": {},
   "outputs": [
    {
     "data": {
      "text/latex": [
       "Quantum object: dims = [[5], [5]], shape = (5, 5), type = oper, isherm = False\\begin{equation*}\\left(\\begin{array}{*{11}c}0.0 & 0.0 & 0.0 & 0.0 & 0.0\\\\1.0 & 0.0 & 0.0 & 0.0 & 0.0\\\\0.0 & 1.414 & 0.0 & 0.0 & 0.0\\\\0.0 & 0.0 & 1.732 & 0.0 & 0.0\\\\0.0 & 0.0 & 0.0 & 2.0 & 0.0\\\\\\end{array}\\right)\\end{equation*}"
      ],
      "text/plain": [
       "Quantum object: dims = [[5], [5]], shape = (5, 5), type = oper, isherm = False\n",
       "Qobj data =\n",
       "[[0.         0.         0.         0.         0.        ]\n",
       " [1.         0.         0.         0.         0.        ]\n",
       " [0.         1.41421356 0.         0.         0.        ]\n",
       " [0.         0.         1.73205081 0.         0.        ]\n",
       " [0.         0.         0.         2.         0.        ]]"
      ]
     },
     "execution_count": 46,
     "metadata": {},
     "output_type": "execute_result"
    }
   ],
   "source": [
    "a_dag"
   ]
  },
  {
   "cell_type": "code",
   "execution_count": 47,
   "id": "6696df11",
   "metadata": {},
   "outputs": [
    {
     "data": {
      "text/plain": [
       "6000000000.0"
      ]
     },
     "execution_count": 47,
     "metadata": {},
     "output_type": "execute_result"
    }
   ],
   "source": [
    "w_q = 6e9\n",
    "w_q"
   ]
  },
  {
   "cell_type": "code",
   "execution_count": 48,
   "id": "230a71ec",
   "metadata": {},
   "outputs": [
    {
     "data": {
      "text/latex": [
       "Quantum object: dims = [[2, 2], [1, 1]], shape = (4, 1), type = ket\\begin{equation*}\\left(\\begin{array}{*{11}c}1.0\\\\0.0\\\\0.0\\\\0.0\\\\\\end{array}\\right)\\end{equation*}"
      ],
      "text/plain": [
       "Quantum object: dims = [[2, 2], [1, 1]], shape = (4, 1), type = ket\n",
       "Qobj data =\n",
       "[[1.]\n",
       " [0.]\n",
       " [0.]\n",
       " [0.]]"
      ]
     },
     "execution_count": 48,
     "metadata": {},
     "output_type": "execute_result"
    }
   ],
   "source": [
    "tensor(basis(2, 0), basis(2, 0))"
   ]
  },
  {
   "cell_type": "code",
   "execution_count": 49,
   "id": "681b3420",
   "metadata": {},
   "outputs": [
    {
     "data": {
      "text/latex": [
       "Quantum object: dims = [[2, 2], [1, 1]], shape = (4, 1), type = ket\\begin{equation*}\\left(\\begin{array}{*{11}c}0.0\\\\1.0\\\\0.0\\\\0.0\\\\\\end{array}\\right)\\end{equation*}"
      ],
      "text/plain": [
       "Quantum object: dims = [[2, 2], [1, 1]], shape = (4, 1), type = ket\n",
       "Qobj data =\n",
       "[[0.]\n",
       " [1.]\n",
       " [0.]\n",
       " [0.]]"
      ]
     },
     "execution_count": 49,
     "metadata": {},
     "output_type": "execute_result"
    }
   ],
   "source": [
    "tensor(basis(2, 0), basis(2, 1))"
   ]
  },
  {
   "cell_type": "code",
   "execution_count": 50,
   "id": "445804a4",
   "metadata": {},
   "outputs": [
    {
     "data": {
      "text/latex": [
       "Quantum object: dims = [[2, 2], [1, 1]], shape = (4, 1), type = ket\\begin{equation*}\\left(\\begin{array}{*{11}c}0.0\\\\0.0\\\\1.0\\\\0.0\\\\\\end{array}\\right)\\end{equation*}"
      ],
      "text/plain": [
       "Quantum object: dims = [[2, 2], [1, 1]], shape = (4, 1), type = ket\n",
       "Qobj data =\n",
       "[[0.]\n",
       " [0.]\n",
       " [1.]\n",
       " [0.]]"
      ]
     },
     "execution_count": 50,
     "metadata": {},
     "output_type": "execute_result"
    }
   ],
   "source": [
    "tensor(basis(2, 1), basis(2, 0))"
   ]
  },
  {
   "cell_type": "code",
   "execution_count": 51,
   "id": "ff19a3c4",
   "metadata": {},
   "outputs": [
    {
     "data": {
      "text/latex": [
       "Quantum object: dims = [[2, 2], [1, 1]], shape = (4, 1), type = ket\\begin{equation*}\\left(\\begin{array}{*{11}c}0.0\\\\0.0\\\\0.0\\\\1.0\\\\\\end{array}\\right)\\end{equation*}"
      ],
      "text/plain": [
       "Quantum object: dims = [[2, 2], [1, 1]], shape = (4, 1), type = ket\n",
       "Qobj data =\n",
       "[[0.]\n",
       " [0.]\n",
       " [0.]\n",
       " [1.]]"
      ]
     },
     "execution_count": 51,
     "metadata": {},
     "output_type": "execute_result"
    }
   ],
   "source": [
    "tensor(basis(2, 1), basis(2, 1))"
   ]
  },
  {
   "cell_type": "code",
   "execution_count": 54,
   "id": "354cebcd",
   "metadata": {},
   "outputs": [
    {
     "data": {
      "text/latex": [
       "Quantum object: dims = [[2, 2, 5], [2, 2, 5]], shape = (20, 20), type = oper, isherm = False\\begin{equation*}\\left(\\begin{array}{*{11}c}0.0 & 1.0 & 0.0 & 0.0 & 0.0 & \\cdots & 0.0 & 0.0 & 0.0 & 0.0 & 0.0\\\\0.0 & 0.0 & 1.414 & 0.0 & 0.0 & \\cdots & 0.0 & 0.0 & 0.0 & 0.0 & 0.0\\\\0.0 & 0.0 & 0.0 & 1.732 & 0.0 & \\cdots & 0.0 & 0.0 & 0.0 & 0.0 & 0.0\\\\0.0 & 0.0 & 0.0 & 0.0 & 2.0 & \\cdots & 0.0 & 0.0 & 0.0 & 0.0 & 0.0\\\\0.0 & 0.0 & 0.0 & 0.0 & 0.0 & \\cdots & 0.0 & 0.0 & 0.0 & 0.0 & 0.0\\\\\\vdots & \\vdots & \\vdots & \\vdots & \\vdots & \\ddots & \\vdots & \\vdots & \\vdots & \\vdots & \\vdots\\\\0.0 & 0.0 & 0.0 & 0.0 & 0.0 & \\cdots & 0.0 & 1.0 & 0.0 & 0.0 & 0.0\\\\0.0 & 0.0 & 0.0 & 0.0 & 0.0 & \\cdots & 0.0 & 0.0 & 1.414 & 0.0 & 0.0\\\\0.0 & 0.0 & 0.0 & 0.0 & 0.0 & \\cdots & 0.0 & 0.0 & 0.0 & 1.732 & 0.0\\\\0.0 & 0.0 & 0.0 & 0.0 & 0.0 & \\cdots & 0.0 & 0.0 & 0.0 & 0.0 & 2.0\\\\0.0 & 0.0 & 0.0 & 0.0 & 0.0 & \\cdots & 0.0 & 0.0 & 0.0 & 0.0 & 0.0\\\\\\end{array}\\right)\\end{equation*}"
      ],
      "text/plain": [
       "Quantum object: dims = [[2, 2, 5], [2, 2, 5]], shape = (20, 20), type = oper, isherm = False\n",
       "Qobj data =\n",
       "[[0.         1.         0.         0.         0.         0.\n",
       "  0.         0.         0.         0.         0.         0.\n",
       "  0.         0.         0.         0.         0.         0.\n",
       "  0.         0.        ]\n",
       " [0.         0.         1.41421356 0.         0.         0.\n",
       "  0.         0.         0.         0.         0.         0.\n",
       "  0.         0.         0.         0.         0.         0.\n",
       "  0.         0.        ]\n",
       " [0.         0.         0.         1.73205081 0.         0.\n",
       "  0.         0.         0.         0.         0.         0.\n",
       "  0.         0.         0.         0.         0.         0.\n",
       "  0.         0.        ]\n",
       " [0.         0.         0.         0.         2.         0.\n",
       "  0.         0.         0.         0.         0.         0.\n",
       "  0.         0.         0.         0.         0.         0.\n",
       "  0.         0.        ]\n",
       " [0.         0.         0.         0.         0.         0.\n",
       "  0.         0.         0.         0.         0.         0.\n",
       "  0.         0.         0.         0.         0.         0.\n",
       "  0.         0.        ]\n",
       " [0.         0.         0.         0.         0.         0.\n",
       "  1.         0.         0.         0.         0.         0.\n",
       "  0.         0.         0.         0.         0.         0.\n",
       "  0.         0.        ]\n",
       " [0.         0.         0.         0.         0.         0.\n",
       "  0.         1.41421356 0.         0.         0.         0.\n",
       "  0.         0.         0.         0.         0.         0.\n",
       "  0.         0.        ]\n",
       " [0.         0.         0.         0.         0.         0.\n",
       "  0.         0.         1.73205081 0.         0.         0.\n",
       "  0.         0.         0.         0.         0.         0.\n",
       "  0.         0.        ]\n",
       " [0.         0.         0.         0.         0.         0.\n",
       "  0.         0.         0.         2.         0.         0.\n",
       "  0.         0.         0.         0.         0.         0.\n",
       "  0.         0.        ]\n",
       " [0.         0.         0.         0.         0.         0.\n",
       "  0.         0.         0.         0.         0.         0.\n",
       "  0.         0.         0.         0.         0.         0.\n",
       "  0.         0.        ]\n",
       " [0.         0.         0.         0.         0.         0.\n",
       "  0.         0.         0.         0.         0.         1.\n",
       "  0.         0.         0.         0.         0.         0.\n",
       "  0.         0.        ]\n",
       " [0.         0.         0.         0.         0.         0.\n",
       "  0.         0.         0.         0.         0.         0.\n",
       "  1.41421356 0.         0.         0.         0.         0.\n",
       "  0.         0.        ]\n",
       " [0.         0.         0.         0.         0.         0.\n",
       "  0.         0.         0.         0.         0.         0.\n",
       "  0.         1.73205081 0.         0.         0.         0.\n",
       "  0.         0.        ]\n",
       " [0.         0.         0.         0.         0.         0.\n",
       "  0.         0.         0.         0.         0.         0.\n",
       "  0.         0.         2.         0.         0.         0.\n",
       "  0.         0.        ]\n",
       " [0.         0.         0.         0.         0.         0.\n",
       "  0.         0.         0.         0.         0.         0.\n",
       "  0.         0.         0.         0.         0.         0.\n",
       "  0.         0.        ]\n",
       " [0.         0.         0.         0.         0.         0.\n",
       "  0.         0.         0.         0.         0.         0.\n",
       "  0.         0.         0.         0.         1.         0.\n",
       "  0.         0.        ]\n",
       " [0.         0.         0.         0.         0.         0.\n",
       "  0.         0.         0.         0.         0.         0.\n",
       "  0.         0.         0.         0.         0.         1.41421356\n",
       "  0.         0.        ]\n",
       " [0.         0.         0.         0.         0.         0.\n",
       "  0.         0.         0.         0.         0.         0.\n",
       "  0.         0.         0.         0.         0.         0.\n",
       "  1.73205081 0.        ]\n",
       " [0.         0.         0.         0.         0.         0.\n",
       "  0.         0.         0.         0.         0.         0.\n",
       "  0.         0.         0.         0.         0.         0.\n",
       "  0.         2.        ]\n",
       " [0.         0.         0.         0.         0.         0.\n",
       "  0.         0.         0.         0.         0.         0.\n",
       "  0.         0.         0.         0.         0.         0.\n",
       "  0.         0.        ]]"
      ]
     },
     "execution_count": 54,
     "metadata": {},
     "output_type": "execute_result"
    }
   ],
   "source": [
    "a = tensor(identity(2), identity(2), destroy(5))\n",
    "a"
   ]
  },
  {
   "cell_type": "code",
   "execution_count": 55,
   "id": "47bce402",
   "metadata": {},
   "outputs": [
    {
     "data": {
      "text/latex": [
       "Quantum object: dims = [[2, 2, 5], [2, 2, 5]], shape = (20, 20), type = oper, isherm = False\\begin{equation*}\\left(\\begin{array}{*{11}c}0.0 & 0.0 & 0.0 & 0.0 & 0.0 & \\cdots & 0.0 & 0.0 & 0.0 & 0.0 & 0.0\\\\1.0 & 0.0 & 0.0 & 0.0 & 0.0 & \\cdots & 0.0 & 0.0 & 0.0 & 0.0 & 0.0\\\\0.0 & 1.414 & 0.0 & 0.0 & 0.0 & \\cdots & 0.0 & 0.0 & 0.0 & 0.0 & 0.0\\\\0.0 & 0.0 & 1.732 & 0.0 & 0.0 & \\cdots & 0.0 & 0.0 & 0.0 & 0.0 & 0.0\\\\0.0 & 0.0 & 0.0 & 2.0 & 0.0 & \\cdots & 0.0 & 0.0 & 0.0 & 0.0 & 0.0\\\\\\vdots & \\vdots & \\vdots & \\vdots & \\vdots & \\ddots & \\vdots & \\vdots & \\vdots & \\vdots & \\vdots\\\\0.0 & 0.0 & 0.0 & 0.0 & 0.0 & \\cdots & 0.0 & 0.0 & 0.0 & 0.0 & 0.0\\\\0.0 & 0.0 & 0.0 & 0.0 & 0.0 & \\cdots & 1.0 & 0.0 & 0.0 & 0.0 & 0.0\\\\0.0 & 0.0 & 0.0 & 0.0 & 0.0 & \\cdots & 0.0 & 1.414 & 0.0 & 0.0 & 0.0\\\\0.0 & 0.0 & 0.0 & 0.0 & 0.0 & \\cdots & 0.0 & 0.0 & 1.732 & 0.0 & 0.0\\\\0.0 & 0.0 & 0.0 & 0.0 & 0.0 & \\cdots & 0.0 & 0.0 & 0.0 & 2.0 & 0.0\\\\\\end{array}\\right)\\end{equation*}"
      ],
      "text/plain": [
       "Quantum object: dims = [[2, 2, 5], [2, 2, 5]], shape = (20, 20), type = oper, isherm = False\n",
       "Qobj data =\n",
       "[[0.         0.         0.         0.         0.         0.\n",
       "  0.         0.         0.         0.         0.         0.\n",
       "  0.         0.         0.         0.         0.         0.\n",
       "  0.         0.        ]\n",
       " [1.         0.         0.         0.         0.         0.\n",
       "  0.         0.         0.         0.         0.         0.\n",
       "  0.         0.         0.         0.         0.         0.\n",
       "  0.         0.        ]\n",
       " [0.         1.41421356 0.         0.         0.         0.\n",
       "  0.         0.         0.         0.         0.         0.\n",
       "  0.         0.         0.         0.         0.         0.\n",
       "  0.         0.        ]\n",
       " [0.         0.         1.73205081 0.         0.         0.\n",
       "  0.         0.         0.         0.         0.         0.\n",
       "  0.         0.         0.         0.         0.         0.\n",
       "  0.         0.        ]\n",
       " [0.         0.         0.         2.         0.         0.\n",
       "  0.         0.         0.         0.         0.         0.\n",
       "  0.         0.         0.         0.         0.         0.\n",
       "  0.         0.        ]\n",
       " [0.         0.         0.         0.         0.         0.\n",
       "  0.         0.         0.         0.         0.         0.\n",
       "  0.         0.         0.         0.         0.         0.\n",
       "  0.         0.        ]\n",
       " [0.         0.         0.         0.         0.         1.\n",
       "  0.         0.         0.         0.         0.         0.\n",
       "  0.         0.         0.         0.         0.         0.\n",
       "  0.         0.        ]\n",
       " [0.         0.         0.         0.         0.         0.\n",
       "  1.41421356 0.         0.         0.         0.         0.\n",
       "  0.         0.         0.         0.         0.         0.\n",
       "  0.         0.        ]\n",
       " [0.         0.         0.         0.         0.         0.\n",
       "  0.         1.73205081 0.         0.         0.         0.\n",
       "  0.         0.         0.         0.         0.         0.\n",
       "  0.         0.        ]\n",
       " [0.         0.         0.         0.         0.         0.\n",
       "  0.         0.         2.         0.         0.         0.\n",
       "  0.         0.         0.         0.         0.         0.\n",
       "  0.         0.        ]\n",
       " [0.         0.         0.         0.         0.         0.\n",
       "  0.         0.         0.         0.         0.         0.\n",
       "  0.         0.         0.         0.         0.         0.\n",
       "  0.         0.        ]\n",
       " [0.         0.         0.         0.         0.         0.\n",
       "  0.         0.         0.         0.         1.         0.\n",
       "  0.         0.         0.         0.         0.         0.\n",
       "  0.         0.        ]\n",
       " [0.         0.         0.         0.         0.         0.\n",
       "  0.         0.         0.         0.         0.         1.41421356\n",
       "  0.         0.         0.         0.         0.         0.\n",
       "  0.         0.        ]\n",
       " [0.         0.         0.         0.         0.         0.\n",
       "  0.         0.         0.         0.         0.         0.\n",
       "  1.73205081 0.         0.         0.         0.         0.\n",
       "  0.         0.        ]\n",
       " [0.         0.         0.         0.         0.         0.\n",
       "  0.         0.         0.         0.         0.         0.\n",
       "  0.         2.         0.         0.         0.         0.\n",
       "  0.         0.        ]\n",
       " [0.         0.         0.         0.         0.         0.\n",
       "  0.         0.         0.         0.         0.         0.\n",
       "  0.         0.         0.         0.         0.         0.\n",
       "  0.         0.        ]\n",
       " [0.         0.         0.         0.         0.         0.\n",
       "  0.         0.         0.         0.         0.         0.\n",
       "  0.         0.         0.         1.         0.         0.\n",
       "  0.         0.        ]\n",
       " [0.         0.         0.         0.         0.         0.\n",
       "  0.         0.         0.         0.         0.         0.\n",
       "  0.         0.         0.         0.         1.41421356 0.\n",
       "  0.         0.        ]\n",
       " [0.         0.         0.         0.         0.         0.\n",
       "  0.         0.         0.         0.         0.         0.\n",
       "  0.         0.         0.         0.         0.         1.73205081\n",
       "  0.         0.        ]\n",
       " [0.         0.         0.         0.         0.         0.\n",
       "  0.         0.         0.         0.         0.         0.\n",
       "  0.         0.         0.         0.         0.         0.\n",
       "  2.         0.        ]]"
      ]
     },
     "execution_count": 55,
     "metadata": {},
     "output_type": "execute_result"
    }
   ],
   "source": [
    "a.dag()"
   ]
  },
  {
   "cell_type": "code",
   "execution_count": 56,
   "id": "29faa01e",
   "metadata": {},
   "outputs": [
    {
     "data": {
      "text/latex": [
       "Quantum object: dims = [[2], [2]], shape = (2, 2), type = oper, isherm = True\\begin{equation*}\\left(\\begin{array}{*{11}c}1.0 & 0.0\\\\0.0 & -1.0\\\\\\end{array}\\right)\\end{equation*}"
      ],
      "text/plain": [
       "Quantum object: dims = [[2], [2]], shape = (2, 2), type = oper, isherm = True\n",
       "Qobj data =\n",
       "[[ 1.  0.]\n",
       " [ 0. -1.]]"
      ]
     },
     "execution_count": 56,
     "metadata": {},
     "output_type": "execute_result"
    }
   ],
   "source": [
    "sigmaz()"
   ]
  },
  {
   "cell_type": "code",
   "execution_count": 57,
   "id": "d844477d",
   "metadata": {},
   "outputs": [
    {
     "data": {
      "text/plain": [
       "array([1., 1., 1.])"
      ]
     },
     "execution_count": 57,
     "metadata": {},
     "output_type": "execute_result"
    }
   ],
   "source": [
    "A = np.identity(3)\n",
    "w, v = np.linalg.eig(A)\n",
    "w"
   ]
  },
  {
   "cell_type": "code",
   "execution_count": 58,
   "id": "69d906f9",
   "metadata": {},
   "outputs": [
    {
     "data": {
      "text/plain": [
       "array([[1., 0., 0.],\n",
       "       [0., 1., 0.],\n",
       "       [0., 0., 1.]])"
      ]
     },
     "execution_count": 58,
     "metadata": {},
     "output_type": "execute_result"
    }
   ],
   "source": [
    "v"
   ]
  },
  {
   "cell_type": "code",
   "execution_count": 75,
   "id": "f674f769",
   "metadata": {},
   "outputs": [],
   "source": [
    "A = np.matrix([[1, 2, 3], [4, 5, 6], [7, 8, 9]])\n",
    "w, v = np.linalg.eig(A)"
   ]
  },
  {
   "cell_type": "code",
   "execution_count": 76,
   "id": "b300126c",
   "metadata": {},
   "outputs": [
    {
     "data": {
      "text/plain": [
       "array([ 1.61168440e+01, -1.11684397e+00, -9.75918483e-16])"
      ]
     },
     "execution_count": 76,
     "metadata": {},
     "output_type": "execute_result"
    }
   ],
   "source": [
    "w"
   ]
  },
  {
   "cell_type": "code",
   "execution_count": 77,
   "id": "11e1ea1e",
   "metadata": {},
   "outputs": [
    {
     "data": {
      "text/plain": [
       "matrix([[-0.23197069, -0.78583024,  0.40824829],\n",
       "        [-0.52532209, -0.08675134, -0.81649658],\n",
       "        [-0.8186735 ,  0.61232756,  0.40824829]])"
      ]
     },
     "execution_count": 77,
     "metadata": {},
     "output_type": "execute_result"
    }
   ],
   "source": [
    "v"
   ]
  },
  {
   "cell_type": "code",
   "execution_count": 78,
   "id": "2e584a89",
   "metadata": {},
   "outputs": [
    {
     "data": {
      "text/plain": [
       "matrix([[ 3,  6,  9],\n",
       "        [12, 15, 18],\n",
       "        [21, 24, 27]])"
      ]
     },
     "execution_count": 78,
     "metadata": {},
     "output_type": "execute_result"
    }
   ],
   "source": [
    "B = A * 3\n",
    "B"
   ]
  },
  {
   "cell_type": "code",
   "execution_count": 79,
   "id": "bb04c113",
   "metadata": {},
   "outputs": [],
   "source": [
    "e, f = np.linalg.eig(B)"
   ]
  },
  {
   "cell_type": "code",
   "execution_count": 80,
   "id": "4395c331",
   "metadata": {},
   "outputs": [
    {
     "data": {
      "text/plain": [
       "array([ 4.83505319e+01, -3.35053191e+00, -6.79840400e-16])"
      ]
     },
     "execution_count": 80,
     "metadata": {},
     "output_type": "execute_result"
    }
   ],
   "source": [
    "e"
   ]
  },
  {
   "cell_type": "code",
   "execution_count": 81,
   "id": "8ccd8205",
   "metadata": {},
   "outputs": [
    {
     "data": {
      "text/plain": [
       "matrix([[-0.23197069, -0.78583024,  0.40824829],\n",
       "        [-0.52532209, -0.08675134, -0.81649658],\n",
       "        [-0.8186735 ,  0.61232756,  0.40824829]])"
      ]
     },
     "execution_count": 81,
     "metadata": {},
     "output_type": "execute_result"
    }
   ],
   "source": [
    "f"
   ]
  },
  {
   "cell_type": "code",
   "execution_count": 82,
   "id": "b19e3fe0",
   "metadata": {},
   "outputs": [
    {
     "data": {
      "text/latex": [
       "Quantum object: dims = [[5], [5]], shape = (5, 5), type = oper, isherm = True\\begin{equation*}\\left(\\begin{array}{*{11}c}1.0 & 0.0 & 0.0 & 0.0 & 0.0\\\\0.0 & 1.0 & 0.0 & 0.0 & 0.0\\\\0.0 & 0.0 & 1.0 & 0.0 & 0.0\\\\0.0 & 0.0 & 0.0 & 1.0 & 0.0\\\\0.0 & 0.0 & 0.0 & 0.0 & 1.0\\\\\\end{array}\\right)\\end{equation*}"
      ],
      "text/plain": [
       "Quantum object: dims = [[5], [5]], shape = (5, 5), type = oper, isherm = True\n",
       "Qobj data =\n",
       "[[1. 0. 0. 0. 0.]\n",
       " [0. 1. 0. 0. 0.]\n",
       " [0. 0. 1. 0. 0.]\n",
       " [0. 0. 0. 1. 0.]\n",
       " [0. 0. 0. 0. 1.]]"
      ]
     },
     "execution_count": 82,
     "metadata": {},
     "output_type": "execute_result"
    }
   ],
   "source": [
    "A = identity(5)\n",
    "A"
   ]
  },
  {
   "cell_type": "code",
   "execution_count": 83,
   "id": "ce4a5d85",
   "metadata": {},
   "outputs": [
    {
     "data": {
      "text/latex": [
       "Quantum object: dims = [[5], [5]], shape = (5, 5), type = oper, isherm = True\\begin{equation*}\\left(\\begin{array}{*{11}c}3.0 & 0.0 & 0.0 & 0.0 & 0.0\\\\0.0 & 3.0 & 0.0 & 0.0 & 0.0\\\\0.0 & 0.0 & 3.0 & 0.0 & 0.0\\\\0.0 & 0.0 & 0.0 & 3.0 & 0.0\\\\0.0 & 0.0 & 0.0 & 0.0 & 3.0\\\\\\end{array}\\right)\\end{equation*}"
      ],
      "text/plain": [
       "Quantum object: dims = [[5], [5]], shape = (5, 5), type = oper, isherm = True\n",
       "Qobj data =\n",
       "[[3. 0. 0. 0. 0.]\n",
       " [0. 3. 0. 0. 0.]\n",
       " [0. 0. 3. 0. 0.]\n",
       " [0. 0. 0. 3. 0.]\n",
       " [0. 0. 0. 0. 3.]]"
      ]
     },
     "execution_count": 83,
     "metadata": {},
     "output_type": "execute_result"
    }
   ],
   "source": [
    "3 * A"
   ]
  },
  {
   "cell_type": "code",
   "execution_count": null,
   "id": "ef0e25a6",
   "metadata": {},
   "outputs": [],
   "source": []
  }
 ],
 "metadata": {
  "kernelspec": {
   "display_name": "Python 3",
   "language": "python",
   "name": "python3"
  },
  "language_info": {
   "codemirror_mode": {
    "name": "ipython",
    "version": 3
   },
   "file_extension": ".py",
   "mimetype": "text/x-python",
   "name": "python",
   "nbconvert_exporter": "python",
   "pygments_lexer": "ipython3",
   "version": "3.8.10"
  }
 },
 "nbformat": 4,
 "nbformat_minor": 5
}
